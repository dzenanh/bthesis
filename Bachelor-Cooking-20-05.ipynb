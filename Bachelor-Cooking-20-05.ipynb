{
 "cells": [
  {
   "cell_type": "code",
   "execution_count": 1,
   "metadata": {
    "collapsed": true
   },
   "outputs": [],
   "source": [
    "import numpy as np\n",
    "from pandas import Series,DataFrame\n",
    "import pandas as pd\n",
    "import time\n",
    "import datetime\n",
    "\n",
    "import matplotlib.pyplot as plt\n",
    "import matplotlib as mpl\n",
    "\n",
    "%matplotlib inline\n",
    "mpl.rcParams['figure.figsize'] = (12.0, 6.0)"
   ]
  },
  {
   "cell_type": "code",
   "execution_count": 29,
   "metadata": {
    "collapsed": false
   },
   "outputs": [],
   "source": [
    "dframe2005 = pd.read_csv('tp1_sensordata_20_05.csv', sep=',', parse_dates=[1], header=None,\n",
    "                         names=['datetime', 'sec', 'ms', 'event_type', 'event_subtype', 'sensor_id','z','x','y','value', 'something'])\n",
    "\n",
    "dframe2005['datetime'] = pd.to_datetime(dframe2005['datetime'])\n",
    "# calculate diff in seconds from day begin\n",
    "dframe2005['seconddelta'] = dframe2005.datetime.map( lambda x: pd.to_datetime(x).hour*3600 + pd.to_datetime(x).minute*60 + pd.to_datetime(x).second )\n",
    "dframe2005['msseconddelta'] = dframe2005.seconddelta + dframe2005.ms/1000\n",
    "\n",
    "dframe2005s4 = pd.DataFrame(dframe2005.loc[dframe2005['sensor_id'] == 4])\n",
    "\n",
    "dframe2005s4['valuediff'] = dframe2005s4.value.diff()"
   ]
  },
  {
   "cell_type": "code",
   "execution_count": 30,
   "metadata": {
    "collapsed": false
   },
   "outputs": [
    {
     "data": {
      "text/html": [
       "<div>\n",
       "<table border=\"1\" class=\"dataframe\">\n",
       "  <thead>\n",
       "    <tr style=\"text-align: right;\">\n",
       "      <th></th>\n",
       "      <th>datetime</th>\n",
       "      <th>sec</th>\n",
       "      <th>ms</th>\n",
       "      <th>event_type</th>\n",
       "      <th>event_subtype</th>\n",
       "      <th>sensor_id</th>\n",
       "      <th>z</th>\n",
       "      <th>x</th>\n",
       "      <th>y</th>\n",
       "      <th>value</th>\n",
       "      <th>something</th>\n",
       "      <th>seconddelta</th>\n",
       "      <th>msseconddelta</th>\n",
       "      <th>valuediff</th>\n",
       "    </tr>\n",
       "  </thead>\n",
       "  <tbody>\n",
       "    <tr>\n",
       "      <th>5</th>\n",
       "      <td>2010-05-20 00:03:11</td>\n",
       "      <td>1274313791</td>\n",
       "      <td>20</td>\n",
       "      <td>R</td>\n",
       "      <td>0</td>\n",
       "      <td>4</td>\n",
       "      <td>703076</td>\n",
       "      <td>173</td>\n",
       "      <td>1</td>\n",
       "      <td>22.9</td>\n",
       "      <td>2130706433</td>\n",
       "      <td>191</td>\n",
       "      <td>191.020</td>\n",
       "      <td>NaN</td>\n",
       "    </tr>\n",
       "    <tr>\n",
       "      <th>25</th>\n",
       "      <td>2010-05-20 00:13:13</td>\n",
       "      <td>1274314393</td>\n",
       "      <td>445</td>\n",
       "      <td>R</td>\n",
       "      <td>0</td>\n",
       "      <td>4</td>\n",
       "      <td>703229</td>\n",
       "      <td>173</td>\n",
       "      <td>1</td>\n",
       "      <td>23.0</td>\n",
       "      <td>2130706433</td>\n",
       "      <td>793</td>\n",
       "      <td>793.445</td>\n",
       "      <td>0.1</td>\n",
       "    </tr>\n",
       "    <tr>\n",
       "      <th>46</th>\n",
       "      <td>2010-05-20 00:23:15</td>\n",
       "      <td>1274314995</td>\n",
       "      <td>869</td>\n",
       "      <td>R</td>\n",
       "      <td>0</td>\n",
       "      <td>4</td>\n",
       "      <td>703381</td>\n",
       "      <td>173</td>\n",
       "      <td>1</td>\n",
       "      <td>22.9</td>\n",
       "      <td>2130706433</td>\n",
       "      <td>1395</td>\n",
       "      <td>1395.869</td>\n",
       "      <td>-0.1</td>\n",
       "    </tr>\n",
       "    <tr>\n",
       "      <th>62</th>\n",
       "      <td>2010-05-20 00:33:18</td>\n",
       "      <td>1274315598</td>\n",
       "      <td>294</td>\n",
       "      <td>R</td>\n",
       "      <td>0</td>\n",
       "      <td>4</td>\n",
       "      <td>703527</td>\n",
       "      <td>173</td>\n",
       "      <td>1</td>\n",
       "      <td>22.9</td>\n",
       "      <td>2130706433</td>\n",
       "      <td>1998</td>\n",
       "      <td>1998.294</td>\n",
       "      <td>0.0</td>\n",
       "    </tr>\n",
       "    <tr>\n",
       "      <th>77</th>\n",
       "      <td>2010-05-20 00:43:20</td>\n",
       "      <td>1274316200</td>\n",
       "      <td>719</td>\n",
       "      <td>R</td>\n",
       "      <td>0</td>\n",
       "      <td>4</td>\n",
       "      <td>703672</td>\n",
       "      <td>173</td>\n",
       "      <td>1</td>\n",
       "      <td>23.0</td>\n",
       "      <td>2130706433</td>\n",
       "      <td>2600</td>\n",
       "      <td>2600.719</td>\n",
       "      <td>0.1</td>\n",
       "    </tr>\n",
       "  </tbody>\n",
       "</table>\n",
       "</div>"
      ],
      "text/plain": [
       "              datetime         sec   ms event_type  event_subtype  sensor_id  \\\n",
       "5  2010-05-20 00:03:11  1274313791   20          R              0          4   \n",
       "25 2010-05-20 00:13:13  1274314393  445          R              0          4   \n",
       "46 2010-05-20 00:23:15  1274314995  869          R              0          4   \n",
       "62 2010-05-20 00:33:18  1274315598  294          R              0          4   \n",
       "77 2010-05-20 00:43:20  1274316200  719          R              0          4   \n",
       "\n",
       "         z    x  y  value   something  seconddelta  msseconddelta  valuediff  \n",
       "5   703076  173  1   22.9  2130706433          191        191.020        NaN  \n",
       "25  703229  173  1   23.0  2130706433          793        793.445        0.1  \n",
       "46  703381  173  1   22.9  2130706433         1395       1395.869       -0.1  \n",
       "62  703527  173  1   22.9  2130706433         1998       1998.294        0.0  \n",
       "77  703672  173  1   23.0  2130706433         2600       2600.719        0.1  "
      ]
     },
     "execution_count": 30,
     "metadata": {},
     "output_type": "execute_result"
    }
   ],
   "source": [
    "#plt.axvline(x_position)\n",
    "dframe2005s4.head()"
   ]
  },
  {
   "cell_type": "code",
   "execution_count": 31,
   "metadata": {
    "collapsed": false
   },
   "outputs": [
    {
     "data": {
      "text/plain": [
       "<matplotlib.figure.Figure at 0x7fd6e4829a50>"
      ]
     },
     "metadata": {},
     "output_type": "display_data"
    },
    {
     "data": {
      "image/png": "[encoded data removed]",
      "text/plain": [
       "<matplotlib.figure.Figure at 0x7fd6e48df550>"
      ]
     },
     "metadata": {},
     "output_type": "display_data"
    }
   ],
   "source": [
    "fig = plt.figure()\n",
    "ax = dframe2005s4.plot(x='datetime', y='value', style='-', marker='o')\n",
    "ax.axvline(dframe2005s4.datetime.values[30], color='k', linestyle='--')\n",
    "ax.axvspan(dframe2005s4.datetime.values[30], dframe2005s4.datetime.values[50], facecolor='g', alpha=0.5)\n",
    "dframe2005s4.plot(x='datetime', y='valuediff', style='.', color='r', ax=ax)\n",
    "fig.set_title=\"blaaaaaaaaaaaa\"\n",
    "#plt.axvline(50)\n",
    "plt.show(fig)"
   ]
  },
  {
   "cell_type": "code",
   "execution_count": 32,
   "metadata": {
    "collapsed": false
   },
   "outputs": [
    {
     "data": {
      "text/plain": [
       "<matplotlib.axes._subplots.AxesSubplot at 0x7fd6e4789e10>"
      ]
     },
     "execution_count": 32,
     "metadata": {},
     "output_type": "execute_result"
    },
    {
     "data": {
      "image/png": "[encoded data removed]",
      "text/plain": [
       "<matplotlib.figure.Figure at 0x7fd6e4cc0310>"
      ]
     },
     "metadata": {},
     "output_type": "display_data"
    }
   ],
   "source": [
    "dframe2005s4.plot(x='datetime', y='valuediff', style='o')"
   ]
  },
  {
   "cell_type": "code",
   "execution_count": 33,
   "metadata": {
    "collapsed": false
   },
   "outputs": [
    {
     "data": {
      "text/plain": [
       "count    160.000000\n",
       "mean      -0.001875\n",
       "std        0.439478\n",
       "min       -1.000000\n",
       "25%       -0.100000\n",
       "50%        0.000000\n",
       "75%        0.000000\n",
       "max        1.900000\n",
       "Name: valuediff, dtype: float64"
      ]
     },
     "execution_count": 33,
     "metadata": {},
     "output_type": "execute_result"
    }
   ],
   "source": [
    "dframe2005s4['valuediff'].describe()"
   ]
  },
  {
   "cell_type": "code",
   "execution_count": 34,
   "metadata": {
    "collapsed": false
   },
   "outputs": [
    {
     "data": {
      "text/plain": [
       "array([ nan,  0.1, -0.1,  0. ,  0.1,  0. , -0.1,  0. ,  0. ,  0. ,  0. ,\n",
       "        0. ,  0.1, -0.1,  0. ,  0.1, -0.1,  0.1, -0.1,  0. , -0.1,  0.1,\n",
       "        0. ,  0. ,  0. ,  0. ,  0. ,  0. ,  0.1, -0.1,  0.1, -0.1,  0. ,\n",
       "        0. ,  0. ,  1.6,  1.8,  1.9,  1.9,  1.6,  1.5,  1. ,  1.6, -0.9,\n",
       "       -1. , -0.7, -0.7, -0.7, -0.7, -0.8, -0.9, -0.7, -0.6, -0.8, -0.6,\n",
       "       -0.7, -0.6, -0.6, -0.5, -0.3, -0.2, -0.2, -0.2, -0.1,  0. , -0.1,\n",
       "       -0.1, -0.1,  0. ,  0.1,  0. ,  0. , -0.1,  0.1,  0. , -0.1,  0. ,\n",
       "        0. ,  0. , -0.1,  0.1,  0. ,  0. ,  0. ,  0. ,  0. ,  0. ,  0. ,\n",
       "       -0.1,  0.1,  0. ,  0.2, -0.1,  0.1,  0.1, -0.1, -0.1,  0.1, -0.1,\n",
       "        0. ,  0. ,  0. , -0.1,  0. ,  0. ,  0. ,  0. ,  0. ,  0. , -0.1,\n",
       "        0. ,  0. ,  0. ,  0. , -0.1,  0.1, -0.1,  0. ,  0. ,  0.1, -0.1,\n",
       "        0. ,  0. ,  0. ,  0. ,  0. ,  0. ,  0. ,  0. , -0.1,  0.1,  0. ,\n",
       "        0. ,  0. , -0.1,  0.1,  0. ,  0. , -0.1,  0.1,  0. ,  0. ,  0. ,\n",
       "        0. , -0.1,  0.1, -0.1,  0. ,  0. ,  0. ,  0. ,  0. ,  0. ,  0. ,\n",
       "        0. ,  0. , -0.1,  0.1, -0.1,  0. ,  0. ])"
      ]
     },
     "execution_count": 34,
     "metadata": {},
     "output_type": "execute_result"
    }
   ],
   "source": [
    "dframe2005s4['valuediff'].values"
   ]
  },
  {
   "cell_type": "code",
   "execution_count": 35,
   "metadata": {
    "collapsed": false
   },
   "outputs": [
    {
     "name": "stdout",
     "output_type": "stream",
     "text": [
      "0.0 77\n",
      "0.1 21\n",
      "0.1 16\n",
      "0.1 11\n",
      "0.1 6\n",
      "0.7 4\n",
      "0.6 2\n",
      "0.8 2\n",
      "0.2 2\n",
      "0.6 2\n",
      "0.7 1\n",
      "1.5 1\n",
      "0.5 1\n",
      "1.0 1\n",
      "0.9 1\n",
      "0.2 1\n",
      "1.9 1\n",
      "1.9 1\n",
      "0.3 1\n",
      "1.6 1\n",
      "1.6 1\n",
      "1.6 1\n",
      "0.7 1\n",
      "1.0 1\n",
      "0.2 1\n",
      "1.8 1\n",
      "0.9 1\n",
      "iteration done.\n",
      "\n",
      "0.0 77\n",
      "1.5 1\n",
      "0.8 2\n",
      "0.2 4\n",
      "1.0 2\n",
      "1.6 3\n",
      "0.3 1\n",
      "1.8 1\n",
      "0.6 4\n",
      "0.1 54\n",
      "0.9 2\n",
      "1.9 2\n",
      "0.7 6\n",
      "0.5 1\n",
      "global counter:  160\n",
      "0.0 77 ,%: 48\n",
      "1.5 1 ,%: 0\n",
      "0.8 2 ,%: 1\n",
      "0.2 4 ,%: 2\n",
      "1.0 2 ,%: 1\n",
      "1.6 3 ,%: 1\n",
      "0.3 1 ,%: 0\n",
      "1.8 1 ,%: 0\n",
      "0.6 4 ,%: 2\n",
      "0.1 54 ,%: 33\n",
      "0.9 2 ,%: 1\n",
      "1.9 2 ,%: 1\n",
      "0.7 6 ,%: 3\n",
      "0.5 1 ,%: 0\n",
      "---\n",
      "0.0\n",
      "0.1\n",
      "max:  0.1  max*2:  0.2\n"
     ]
    }
   ],
   "source": [
    "from collections import defaultdict\n",
    "ser = dframe2005s4['valuediff'].value_counts()\n",
    "    #print a, dframe2005s4['valuediff'].value_counts()[a]\n",
    "\n",
    "# iterate over all values and create abs dict D\n",
    "D = defaultdict(int)\n",
    "for key in ser.index.values:\n",
    "    rkey = round(key,1)\n",
    "    print abs(rkey), ser[key]\n",
    "    D[abs(rkey)] += ser[key]\n",
    "\n",
    "print \"iteration done.\\n\"\n",
    "\n",
    "# global counter\n",
    "gc = 0\n",
    "for k in D:\n",
    "    print k, D[k]\n",
    "    gc += D[k]\n",
    "    \n",
    "print 'global counter: ', gc\n",
    "\n",
    "values_to_filterout = []\n",
    "for k in D:\n",
    "    print k, D[k], ',%:',(100*D[k])/gc\n",
    "    # if bigger than 10% add to valies to filterout\n",
    "    if (100*D[k])/gc > 30:\n",
    "        values_to_filterout.append(k)\n",
    "\n",
    "print '---'\n",
    "# check values to filter out\n",
    "for v in values_to_filterout:\n",
    "    print v\n",
    "    \n",
    "print 'max: ', max(values_to_filterout), ' max*2: ', max(values_to_filterout)*2"
   ]
  },
  {
   "cell_type": "code",
   "execution_count": 36,
   "metadata": {
    "collapsed": false
   },
   "outputs": [],
   "source": [
    "# TODO: take max value from values_to_filter_out\n",
    "# 0.0001 is needed to round value\n",
    "def valuation_formula(diff):\n",
    "    if abs(diff) <= max(values_to_filterout)*2 + 0.00001:\n",
    "        return 0\n",
    "    else:\n",
    "        return diff\n",
    "    \n",
    "dframe2005s4['valuediffauto'] = dframe2005s4.apply(lambda row: valuation_formula(row['valuediff']), axis=1)"
   ]
  },
  {
   "cell_type": "code",
   "execution_count": 37,
   "metadata": {
    "collapsed": false
   },
   "outputs": [
    {
     "data": {
      "text/plain": [
       "<matplotlib.axes._subplots.AxesSubplot at 0x7fd6e48cd550>"
      ]
     },
     "execution_count": 37,
     "metadata": {},
     "output_type": "execute_result"
    },
    {
     "data": {
      "image/png": "[encoded data removed]",
      "text/plain": [
       "<matplotlib.figure.Figure at 0x7fd6e462cdd0>"
      ]
     },
     "metadata": {},
     "output_type": "display_data"
    }
   ],
   "source": [
    "dframe2005s4.plot(x='datetime', y='valuediffauto', style='o')"
   ]
  },
  {
   "cell_type": "code",
   "execution_count": 38,
   "metadata": {
    "collapsed": false
   },
   "outputs": [
    {
     "data": {
      "text/plain": [
       " 0.0    135\n",
       "-0.7      4\n",
       "-0.6      2\n",
       "-0.8      2\n",
       "-0.6      2\n",
       "-0.3      1\n",
       " 1.5      1\n",
       " 1.6      1\n",
       "-0.5      1\n",
       " 1.6      1\n",
       "-0.7      1\n",
       "-1.0      1\n",
       " 1.0      1\n",
       " 1.6      1\n",
       "-0.9      1\n",
       " 1.8      1\n",
       " 1.9      1\n",
       " 1.9      1\n",
       "-0.7      1\n",
       "-0.9      1\n",
       "dtype: int64"
      ]
     },
     "execution_count": 38,
     "metadata": {},
     "output_type": "execute_result"
    }
   ],
   "source": [
    "dframe2005s4['valuediffauto'].value_counts()"
   ]
  },
  {
   "cell_type": "code",
   "execution_count": 39,
   "metadata": {
    "collapsed": true
   },
   "outputs": [],
   "source": [
    "dframe2005s4['valuebit'] = dframe2005s4.valuediffauto.map( lambda x: x > 0 )"
   ]
  },
  {
   "cell_type": "code",
   "execution_count": 40,
   "metadata": {
    "collapsed": false
   },
   "outputs": [
    {
     "name": "stdout",
     "output_type": "stream",
     "text": [
      "2010-05-20 00:03:11 nan 22.9 , prev:  null , index:  -1\n",
      "2010-05-20 00:13:13 0.0 23.0 , prev:  22.9 , index:  -1\n",
      "2010-05-20 00:23:15 0.0 22.9 , prev:  23.0 , index:  -1\n",
      "2010-05-20 00:33:18 0.0 22.9 , prev:  22.9 , index:  -1\n",
      "2010-05-20 00:43:20 0.0 23.0 , prev:  22.9 , index:  -1\n",
      "2010-05-20 00:53:23 0.0 23.0 , prev:  23.0 , index:  -1\n",
      "2010-05-20 01:03:26 0.0 22.9 , prev:  23.0 , index:  -1\n",
      "2010-05-20 01:13:28 0.0 22.9 , prev:  22.9 , index:  -1\n",
      "2010-05-20 01:23:31 0.0 22.9 , prev:  22.9 , index:  -1\n",
      "2010-05-20 01:33:33 0.0 22.9 , prev:  22.9 , index:  -1\n",
      "2010-05-20 01:43:36 0.0 22.9 , prev:  22.9 , index:  -1\n",
      "2010-05-20 01:53:38 0.0 22.9 , prev:  22.9 , index:  -1\n",
      "2010-05-20 02:03:42 0.0 23.0 , prev:  22.9 , index:  -1\n",
      "2010-05-20 02:13:44 0.0 22.9 , prev:  23.0 , index:  -1\n",
      "2010-05-20 02:23:46 0.0 22.9 , prev:  22.9 , index:  -1\n",
      "2010-05-20 02:33:49 0.0 23.0 , prev:  22.9 , index:  -1\n",
      "2010-05-20 02:43:51 0.0 22.9 , prev:  23.0 , index:  -1\n",
      "2010-05-20 02:53:54 0.0 23.0 , prev:  22.9 , index:  -1\n",
      "2010-05-20 03:03:57 0.0 22.9 , prev:  23.0 , index:  -1\n",
      "2010-05-20 03:14:00 0.0 22.9 , prev:  22.9 , index:  -1\n",
      "2010-05-20 03:24:02 0.0 22.8 , prev:  22.9 , index:  -1\n",
      "2010-05-20 03:34:04 0.0 22.9 , prev:  22.8 , index:  -1\n",
      "2010-05-20 03:44:07 0.0 22.9 , prev:  22.9 , index:  -1\n",
      "2010-05-20 03:54:09 0.0 22.9 , prev:  22.9 , index:  -1\n",
      "2010-05-20 04:04:13 0.0 22.9 , prev:  22.9 , index:  -1\n",
      "2010-05-20 04:14:15 0.0 22.9 , prev:  22.9 , index:  -1\n",
      "2010-05-20 04:24:18 0.0 22.9 , prev:  22.9 , index:  -1\n",
      "2010-05-20 04:34:20 0.0 22.9 , prev:  22.9 , index:  -1\n",
      "2010-05-20 04:44:22 0.0 23.0 , prev:  22.9 , index:  -1\n",
      "2010-05-20 04:54:25 0.0 22.9 , prev:  23.0 , index:  -1\n",
      "2010-05-20 05:04:27 0.0 23.0 , prev:  22.9 , index:  -1\n",
      "2010-05-20 05:14:31 0.0 22.9 , prev:  23.0 , index:  -1\n",
      "2010-05-20 05:24:33 0.0 22.9 , prev:  22.9 , index:  -1\n",
      "2010-05-20 05:34:36 0.0 22.9 , prev:  22.9 , index:  -1\n",
      "2010-05-20 05:44:38 0.0 22.9 , prev:  22.9 , index:  -1\n",
      "2010-05-20 05:51:58 1.6 24.5 , prev:  22.9 , index:  0\n",
      "2010-05-20 05:52:58 1.8 26.3 , prev:  24.5 , index:  1\n",
      "2010-05-20 05:53:58 1.9 28.2 , prev:  26.3 , index:  2\n",
      "2010-05-20 05:54:58 1.9 30.1 , prev:  28.2 , index:  3\n",
      "2010-05-20 05:55:59 1.6 31.7 , prev:  30.1 , index:  4\n",
      "2010-05-20 05:56:59 1.5 33.2 , prev:  31.7 , index:  5\n",
      "2010-05-20 05:57:59 1.0 34.2 , prev:  33.2 , index:  6\n",
      "2010-05-20 05:59:09 1.6 35.8 , prev:  34.2 , index:  7\n",
      "2010-05-20 06:00:13 -0.9 34.9 , prev:  35.8 , index:  -1\n",
      "2010-05-20 06:01:14 -1.0 33.9 , prev:  34.9 , index:  -1\n",
      "2010-05-20 06:02:14 -0.7 33.2 , prev:  33.9 , index:  -1\n",
      "2010-05-20 06:03:14 -0.7 32.5 , prev:  33.2 , index:  -1\n",
      "2010-05-20 06:04:14 -0.7 31.8 , prev:  32.5 , index:  -1\n",
      "2010-05-20 06:05:15 -0.7 31.1 , prev:  31.8 , index:  -1\n",
      "2010-05-20 06:07:15 -0.8 30.3 , prev:  31.1 , index:  -1\n",
      "2010-05-20 06:09:17 -0.9 29.4 , prev:  30.3 , index:  -1\n",
      "2010-05-20 06:11:17 -0.7 28.7 , prev:  29.4 , index:  -1\n",
      "2010-05-20 06:13:18 -0.6 28.1 , prev:  28.7 , index:  -1\n",
      "2010-05-20 06:16:31 -0.8 27.3 , prev:  28.1 , index:  -1\n",
      "2010-05-20 06:20:32 -0.6 26.7 , prev:  27.3 , index:  -1\n",
      "2010-05-20 06:24:33 -0.7 26.0 , prev:  26.7 , index:  -1\n",
      "2010-05-20 06:30:34 -0.6 25.4 , prev:  26.0 , index:  -1\n",
      "2010-05-20 06:39:37 -0.6 24.8 , prev:  25.4 , index:  -1\n",
      "2010-05-20 06:49:39 -0.5 24.3 , prev:  24.8 , index:  -1\n",
      "2010-05-20 06:59:42 -0.3 24.0 , prev:  24.3 , index:  -1\n",
      "2010-05-20 07:09:45 0.0 23.8 , prev:  24.0 , index:  -1\n",
      "2010-05-20 07:19:47 0.0 23.6 , prev:  23.8 , index:  -1\n",
      "2010-05-20 07:29:50 0.0 23.4 , prev:  23.6 , index:  -1\n",
      "2010-05-20 07:39:52 0.0 23.3 , prev:  23.4 , index:  -1\n",
      "2010-05-20 07:49:55 0.0 23.3 , prev:  23.3 , index:  -1\n",
      "2010-05-20 07:59:57 0.0 23.2 , prev:  23.3 , index:  -1\n",
      "2010-05-20 08:09:59 0.0 23.1 , prev:  23.2 , index:  -1\n",
      "2010-05-20 08:20:02 0.0 23.0 , prev:  23.1 , index:  -1\n",
      "2010-05-20 08:30:05 0.0 23.0 , prev:  23.0 , index:  -1\n",
      "2010-05-20 08:40:08 0.0 23.1 , prev:  23.0 , index:  -1\n",
      "2010-05-20 08:50:10 0.0 23.1 , prev:  23.1 , index:  -1\n",
      "2010-05-20 09:00:13 0.0 23.1 , prev:  23.1 , index:  -1\n",
      "2010-05-20 09:10:15 0.0 23.0 , prev:  23.1 , index:  -1\n",
      "2010-05-20 09:20:19 0.0 23.1 , prev:  23.0 , index:  -1\n",
      "2010-05-20 09:30:21 0.0 23.1 , prev:  23.1 , index:  -1\n",
      "2010-05-20 09:40:24 0.0 23.0 , prev:  23.1 , index:  -1\n",
      "2010-05-20 09:50:26 0.0 23.0 , prev:  23.0 , index:  -1\n",
      "2010-05-20 10:00:28 0.0 23.0 , prev:  23.0 , index:  -1\n",
      "2010-05-20 10:10:31 0.0 23.0 , prev:  23.0 , index:  -1\n",
      "2010-05-20 10:20:33 0.0 22.9 , prev:  23.0 , index:  -1\n",
      "2010-05-20 10:30:36 0.0 23.0 , prev:  22.9 , index:  -1\n",
      "2010-05-20 10:40:39 0.0 23.0 , prev:  23.0 , index:  -1\n",
      "2010-05-20 10:50:41 0.0 23.0 , prev:  23.0 , index:  -1\n",
      "2010-05-20 11:00:44 0.0 23.0 , prev:  23.0 , index:  -1\n",
      "2010-05-20 11:10:46 0.0 23.0 , prev:  23.0 , index:  -1\n",
      "2010-05-20 11:20:49 0.0 23.0 , prev:  23.0 , index:  -1\n",
      "2010-05-20 11:30:52 0.0 23.0 , prev:  23.0 , index:  -1\n",
      "2010-05-20 11:40:55 0.0 23.0 , prev:  23.0 , index:  -1\n",
      "2010-05-20 11:50:57 0.0 22.9 , prev:  23.0 , index:  -1\n",
      "2010-05-20 12:01:00 0.0 23.0 , prev:  22.9 , index:  -1\n",
      "2010-05-20 12:11:02 0.0 23.0 , prev:  23.0 , index:  -1\n",
      "2010-05-20 12:21:04 0.0 23.2 , prev:  23.0 , index:  -1\n",
      "2010-05-20 12:31:07 0.0 23.1 , prev:  23.2 , index:  -1\n",
      "2010-05-20 12:41:09 0.0 23.2 , prev:  23.1 , index:  -1\n",
      "2010-05-20 12:51:13 0.0 23.3 , prev:  23.2 , index:  -1\n",
      "2010-05-20 13:01:15 0.0 23.2 , prev:  23.3 , index:  -1\n",
      "2010-05-20 13:11:18 0.0 23.1 , prev:  23.2 , index:  -1\n",
      "2010-05-20 13:21:20 0.0 23.2 , prev:  23.1 , index:  -1\n",
      "2010-05-20 13:31:22 0.0 23.1 , prev:  23.2 , index:  -1\n",
      "2010-05-20 13:41:25 0.0 23.1 , prev:  23.1 , index:  -1\n",
      "2010-05-20 13:51:28 0.0 23.1 , prev:  23.1 , index:  -1\n",
      "2010-05-20 14:01:31 0.0 23.1 , prev:  23.1 , index:  -1\n",
      "2010-05-20 14:11:33 0.0 23.0 , prev:  23.1 , index:  -1\n",
      "2010-05-20 14:21:35 0.0 23.0 , prev:  23.0 , index:  -1\n",
      "2010-05-20 14:31:38 0.0 23.0 , prev:  23.0 , index:  -1\n",
      "2010-05-20 14:41:40 0.0 23.0 , prev:  23.0 , index:  -1\n",
      "2010-05-20 14:51:44 0.0 23.0 , prev:  23.0 , index:  -1\n",
      "2010-05-20 15:01:46 0.0 23.0 , prev:  23.0 , index:  -1\n",
      "2010-05-20 15:11:49 0.0 23.0 , prev:  23.0 , index:  -1\n",
      "2010-05-20 15:21:51 0.0 22.9 , prev:  23.0 , index:  -1\n",
      "2010-05-20 15:31:53 0.0 22.9 , prev:  22.9 , index:  -1\n",
      "2010-05-20 15:41:56 0.0 22.9 , prev:  22.9 , index:  -1\n",
      "2010-05-20 15:51:58 0.0 22.9 , prev:  22.9 , index:  -1\n",
      "2010-05-20 16:02:02 0.0 22.9 , prev:  22.9 , index:  -1\n",
      "2010-05-20 16:12:04 0.0 22.8 , prev:  22.9 , index:  -1\n",
      "2010-05-20 16:22:07 0.0 22.9 , prev:  22.8 , index:  -1\n",
      "2010-05-20 16:32:09 0.0 22.8 , prev:  22.9 , index:  -1\n",
      "2010-05-20 16:42:12 0.0 22.8 , prev:  22.8 , index:  -1\n",
      "2010-05-20 16:52:15 0.0 22.8 , prev:  22.8 , index:  -1\n",
      "2010-05-20 17:02:17 0.0 22.9 , prev:  22.8 , index:  -1\n",
      "2010-05-20 17:12:20 0.0 22.8 , prev:  22.9 , index:  -1\n",
      "2010-05-20 17:22:22 0.0 22.8 , prev:  22.8 , index:  -1\n",
      "2010-05-20 17:32:26 0.0 22.8 , prev:  22.8 , index:  -1\n",
      "2010-05-20 17:42:29 0.0 22.8 , prev:  22.8 , index:  -1\n",
      "2010-05-20 17:52:31 0.0 22.8 , prev:  22.8 , index:  -1\n",
      "2010-05-20 18:02:35 0.0 22.8 , prev:  22.8 , index:  -1\n",
      "2010-05-20 18:12:37 0.0 22.8 , prev:  22.8 , index:  -1\n",
      "2010-05-20 18:22:39 0.0 22.8 , prev:  22.8 , index:  -1\n",
      "2010-05-20 18:32:42 0.0 22.8 , prev:  22.8 , index:  -1\n",
      "2010-05-20 18:42:44 0.0 22.7 , prev:  22.8 , index:  -1\n",
      "2010-05-20 18:52:47 0.0 22.8 , prev:  22.7 , index:  -1\n",
      "2010-05-20 19:02:50 0.0 22.8 , prev:  22.8 , index:  -1\n",
      "2010-05-20 19:12:53 0.0 22.8 , prev:  22.8 , index:  -1\n",
      "2010-05-20 19:22:55 0.0 22.8 , prev:  22.8 , index:  -1\n",
      "2010-05-20 19:32:57 0.0 22.7 , prev:  22.8 , index:  -1\n",
      "2010-05-20 19:43:00 0.0 22.8 , prev:  22.7 , index:  -1\n",
      "2010-05-20 19:53:02 0.0 22.8 , prev:  22.8 , index:  -1\n",
      "2010-05-20 20:03:06 0.0 22.8 , prev:  22.8 , index:  -1\n",
      "2010-05-20 20:13:08 0.0 22.7 , prev:  22.8 , index:  -1\n",
      "2010-05-20 20:23:11 0.0 22.8 , prev:  22.7 , index:  -1\n",
      "2010-05-20 20:33:13 0.0 22.8 , prev:  22.8 , index:  -1\n",
      "2010-05-20 20:43:15 0.0 22.8 , prev:  22.8 , index:  -1\n",
      "2010-05-20 20:53:18 0.0 22.8 , prev:  22.8 , index:  -1\n",
      "2010-05-20 21:03:20 0.0 22.8 , prev:  22.8 , index:  -1\n",
      "2010-05-20 21:13:24 0.0 22.7 , prev:  22.8 , index:  -1\n",
      "2010-05-20 21:23:26 0.0 22.8 , prev:  22.7 , index:  -1\n",
      "2010-05-20 21:33:29 0.0 22.7 , prev:  22.8 , index:  -1\n",
      "2010-05-20 21:43:31 0.0 22.7 , prev:  22.7 , index:  -1\n",
      "2010-05-20 21:53:34 0.0 22.7 , prev:  22.7 , index:  -1\n",
      "2010-05-20 22:03:37 0.0 22.7 , prev:  22.7 , index:  -1\n",
      "2010-05-20 22:13:39 0.0 22.7 , prev:  22.7 , index:  -1\n",
      "2010-05-20 22:23:42 0.0 22.7 , prev:  22.7 , index:  -1\n",
      "2010-05-20 22:33:44 0.0 22.7 , prev:  22.7 , index:  -1\n",
      "2010-05-20 22:43:47 0.0 22.7 , prev:  22.7 , index:  -1\n",
      "2010-05-20 22:53:49 0.0 22.7 , prev:  22.7 , index:  -1\n",
      "2010-05-20 23:03:51 0.0 22.7 , prev:  22.7 , index:  -1\n",
      "2010-05-20 23:13:54 0.0 22.6 , prev:  22.7 , index:  -1\n",
      "2010-05-20 23:23:57 0.0 22.7 , prev:  22.6 , index:  -1\n",
      "2010-05-20 23:34:00 0.0 22.6 , prev:  22.7 , index:  -1\n",
      "2010-05-20 23:44:02 0.0 22.6 , prev:  22.6 , index:  -1\n",
      "2010-05-20 23:54:05 0.0 22.6 , prev:  22.6 , index:  -1\n"
     ]
    }
   ],
   "source": [
    "prev_row = {}\n",
    "prev_row['value'] = 'null'\n",
    "prev_row['valuediffauto'] = 0.0\n",
    "index = -1\n",
    "output = index\n",
    "def block_cooking(row):\n",
    "    global prev_row, index, output\n",
    "    #if prev_row is None: prev_row['value'] = 'none'\n",
    "    \n",
    "    # if prev <=0.0 && this > 0.0\n",
    "    # index = 0\n",
    "    # return index \n",
    "    # index++\n",
    "    if prev_row['valuediffauto'] <= 0.0 and row['valuediffauto'] > 0.0:\n",
    "        index = 0\n",
    "        output = index\n",
    "        print row['datetime'], row['valuediffauto'], row['value'], ', prev: ', prev_row['value'], ', index: ', index#, ', blockcounter: ', row['blockevent_counter']\n",
    "        index += 1\n",
    "    # else if prev >= 0.0 && this > 0.0\n",
    "    # return index\n",
    "    # index++\n",
    "    elif prev_row['valuediffauto'] >= 0.0 and row['valuediffauto'] > 0.0:\n",
    "        output = index\n",
    "        print row['datetime'], row['valuediffauto'], row['value'], ', prev: ', prev_row['value'], ', index: ', index#, ', blockcounter: ', row['blockevent_counter']\n",
    "        index += 1\n",
    "    # else if this < 0.0\n",
    "    # index = 0\n",
    "    elif row['valuediffauto'] < 0.0:\n",
    "        index = -1\n",
    "        output = index\n",
    "        print row['datetime'], row['valuediffauto'], row['value'], ', prev: ', prev_row['value'], ', index: ', index#, ', blockcounter: ', row['blockevent_counter']\n",
    "    # DEBUG\n",
    "    elif prev_row['valuediffauto'] >= 0.0 and row['valuediffauto'] == 0.0:\n",
    "        index = -1\n",
    "        output = index\n",
    "        print row['datetime'], row['valuediffauto'], row['value'], ', prev: ', prev_row['value'], ', index: ', index#, ', blockcounter: ', row['blockevent_counter']\n",
    "    else:\n",
    "        print row['datetime'], row['valuediffauto'], row['value'], ', prev: ', prev_row['value'], ', index: ', index#, ', blockcounter: ', row['blockevent_counter']\n",
    "        output = index\n",
    "    \n",
    "    prev_row = row\n",
    "    return output\n",
    "    #if row['valuediffauto'] <= 0.0:\n",
    "    #    print 'valuediffnegativ'\n",
    "    \n",
    "dframe2005s4['blockevent_counter'] = dframe2005s4.apply(lambda row: block_cooking(row), axis=1)"
   ]
  },
  {
   "cell_type": "code",
   "execution_count": 41,
   "metadata": {
    "collapsed": true
   },
   "outputs": [],
   "source": [
    "# filter out single temperature increases\n",
    "row_array_index_counter = 0\n",
    "for row_index in dframe2005s4.index.values:\n",
    "    # check end index\n",
    "    if row_array_index_counter + 1 < len(dframe2005s4.index.values):\n",
    "        thisrow = dframe2005s4.ix[row_index]['blockevent_counter']\n",
    "        nextrow = dframe2005s4.ix[dframe2005s4.index.values[row_array_index_counter+1]]['blockevent_counter']\n",
    "        #print \"this:\", thisrow, \", next: \",nextrow\n",
    "        if thisrow == 0 and nextrow == -1:\n",
    "            # set to -1\n",
    "            dframe2005s4.ix[row_index,'blockevent_counter'] = -1\n",
    "\n",
    "    # increase\n",
    "    row_array_index_counter += 1"
   ]
  },
  {
   "cell_type": "code",
   "execution_count": 42,
   "metadata": {
    "collapsed": false
   },
   "outputs": [
    {
     "name": "stdout",
     "output_type": "stream",
     "text": [
      "2010-05-20 00:03:11 , nan , 22.9 , blockcounter:  -1 , nan\n",
      "2010-05-20 00:13:13 , 0.0 , 23.0 , blockcounter:  -1 , nan\n",
      "2010-05-20 00:23:15 , 0.0 , 22.9 , blockcounter:  -1 , nan\n",
      "2010-05-20 00:33:18 , 0.0 , 22.9 , blockcounter:  -1 , nan\n",
      "2010-05-20 00:43:20 , 0.0 , 23.0 , blockcounter:  -1 , nan\n",
      "2010-05-20 00:53:23 , 0.0 , 23.0 , blockcounter:  -1 , nan\n",
      "2010-05-20 01:03:26 , 0.0 , 22.9 , blockcounter:  -1 , nan\n",
      "2010-05-20 01:13:28 , 0.0 , 22.9 , blockcounter:  -1 , nan\n",
      "2010-05-20 01:23:31 , 0.0 , 22.9 , blockcounter:  -1 , nan\n",
      "2010-05-20 01:33:33 , 0.0 , 22.9 , blockcounter:  -1 , nan\n",
      "2010-05-20 01:43:36 , 0.0 , 22.9 , blockcounter:  -1 , nan\n",
      "2010-05-20 01:53:38 , 0.0 , 22.9 , blockcounter:  -1 , nan\n",
      "2010-05-20 02:03:42 , 0.0 , 23.0 , blockcounter:  -1 , nan\n",
      "2010-05-20 02:13:44 , 0.0 , 22.9 , blockcounter:  -1 , nan\n",
      "2010-05-20 02:23:46 , 0.0 , 22.9 , blockcounter:  -1 , nan\n",
      "2010-05-20 02:33:49 , 0.0 , 23.0 , blockcounter:  -1 , nan\n",
      "2010-05-20 02:43:51 , 0.0 , 22.9 , blockcounter:  -1 , nan\n",
      "2010-05-20 02:53:54 , 0.0 , 23.0 , blockcounter:  -1 , nan\n",
      "2010-05-20 03:03:57 , 0.0 , 22.9 , blockcounter:  -1 , nan\n",
      "2010-05-20 03:14:00 , 0.0 , 22.9 , blockcounter:  -1 , nan\n",
      "2010-05-20 03:24:02 , 0.0 , 22.8 , blockcounter:  -1 , nan\n",
      "2010-05-20 03:34:04 , 0.0 , 22.9 , blockcounter:  -1 , nan\n",
      "2010-05-20 03:44:07 , 0.0 , 22.9 , blockcounter:  -1 , nan\n",
      "2010-05-20 03:54:09 , 0.0 , 22.9 , blockcounter:  -1 , nan\n",
      "2010-05-20 04:04:13 , 0.0 , 22.9 , blockcounter:  -1 , nan\n",
      "2010-05-20 04:14:15 , 0.0 , 22.9 , blockcounter:  -1 , nan\n",
      "2010-05-20 04:24:18 , 0.0 , 22.9 , blockcounter:  -1 , nan\n",
      "2010-05-20 04:34:20 , 0.0 , 22.9 , blockcounter:  -1 , nan\n",
      "2010-05-20 04:44:22 , 0.0 , 23.0 , blockcounter:  -1 , nan\n",
      "2010-05-20 04:54:25 , 0.0 , 22.9 , blockcounter:  -1 , nan\n",
      "2010-05-20 05:04:27 , 0.0 , 23.0 , blockcounter:  -1 , nan\n",
      "2010-05-20 05:14:31 , 0.0 , 22.9 , blockcounter:  -1 , nan\n",
      "2010-05-20 05:24:33 , 0.0 , 22.9 , blockcounter:  -1 , nan\n",
      "2010-05-20 05:34:36 , 0.0 , 22.9 , blockcounter:  -1 , nan\n",
      "2010-05-20 05:44:38 , 0.0 , 22.9 , blockcounter:  -1 , nan\n",
      "2010-05-20 05:51:58 , 1.6 , 24.5 , blockcounter:  0 , A\n",
      "2010-05-20 05:52:58 , 1.8 , 26.3 , blockcounter:  1 , A\n",
      "2010-05-20 05:53:58 , 1.9 , 28.2 , blockcounter:  2 , A\n",
      "2010-05-20 05:54:58 , 1.9 , 30.1 , blockcounter:  3 , A\n",
      "2010-05-20 05:55:59 , 1.6 , 31.7 , blockcounter:  4 , A\n",
      "2010-05-20 05:56:59 , 1.5 , 33.2 , blockcounter:  5 , A\n",
      "2010-05-20 05:57:59 , 1.0 , 34.2 , blockcounter:  6 , A\n",
      "2010-05-20 05:59:09 , 1.6 , 35.8 , blockcounter:  7 , A\n",
      "2010-05-20 06:00:13 , -0.9 , 34.9 , blockcounter:  -1 , nan\n",
      "2010-05-20 06:01:14 , -1.0 , 33.9 , blockcounter:  -1 , nan\n",
      "2010-05-20 06:02:14 , -0.7 , 33.2 , blockcounter:  -1 , nan\n",
      "2010-05-20 06:03:14 , -0.7 , 32.5 , blockcounter:  -1 , nan\n",
      "2010-05-20 06:04:14 , -0.7 , 31.8 , blockcounter:  -1 , nan\n",
      "2010-05-20 06:05:15 , -0.7 , 31.1 , blockcounter:  -1 , nan\n",
      "2010-05-20 06:07:15 , -0.8 , 30.3 , blockcounter:  -1 , nan\n",
      "2010-05-20 06:09:17 , -0.9 , 29.4 , blockcounter:  -1 , nan\n",
      "2010-05-20 06:11:17 , -0.7 , 28.7 , blockcounter:  -1 , nan\n",
      "2010-05-20 06:13:18 , -0.6 , 28.1 , blockcounter:  -1 , nan\n",
      "2010-05-20 06:16:31 , -0.8 , 27.3 , blockcounter:  -1 , nan\n",
      "2010-05-20 06:20:32 , -0.6 , 26.7 , blockcounter:  -1 , nan\n",
      "2010-05-20 06:24:33 , -0.7 , 26.0 , blockcounter:  -1 , nan\n",
      "2010-05-20 06:30:34 , -0.6 , 25.4 , blockcounter:  -1 , nan\n",
      "2010-05-20 06:39:37 , -0.6 , 24.8 , blockcounter:  -1 , nan\n",
      "2010-05-20 06:49:39 , -0.5 , 24.3 , blockcounter:  -1 , nan\n",
      "2010-05-20 06:59:42 , -0.3 , 24.0 , blockcounter:  -1 , nan\n",
      "2010-05-20 07:09:45 , 0.0 , 23.8 , blockcounter:  -1 , nan\n",
      "2010-05-20 07:19:47 , 0.0 , 23.6 , blockcounter:  -1 , nan\n",
      "2010-05-20 07:29:50 , 0.0 , 23.4 , blockcounter:  -1 , nan\n",
      "2010-05-20 07:39:52 , 0.0 , 23.3 , blockcounter:  -1 , nan\n",
      "2010-05-20 07:49:55 , 0.0 , 23.3 , blockcounter:  -1 , nan\n",
      "2010-05-20 07:59:57 , 0.0 , 23.2 , blockcounter:  -1 , nan\n",
      "2010-05-20 08:09:59 , 0.0 , 23.1 , blockcounter:  -1 , nan\n",
      "2010-05-20 08:20:02 , 0.0 , 23.0 , blockcounter:  -1 , nan\n",
      "2010-05-20 08:30:05 , 0.0 , 23.0 , blockcounter:  -1 , nan\n",
      "2010-05-20 08:40:08 , 0.0 , 23.1 , blockcounter:  -1 , nan\n",
      "2010-05-20 08:50:10 , 0.0 , 23.1 , blockcounter:  -1 , nan\n",
      "2010-05-20 09:00:13 , 0.0 , 23.1 , blockcounter:  -1 , nan\n",
      "2010-05-20 09:10:15 , 0.0 , 23.0 , blockcounter:  -1 , nan\n",
      "2010-05-20 09:20:19 , 0.0 , 23.1 , blockcounter:  -1 , nan\n",
      "2010-05-20 09:30:21 , 0.0 , 23.1 , blockcounter:  -1 , nan\n",
      "2010-05-20 09:40:24 , 0.0 , 23.0 , blockcounter:  -1 , nan\n",
      "2010-05-20 09:50:26 , 0.0 , 23.0 , blockcounter:  -1 , nan\n",
      "2010-05-20 10:00:28 , 0.0 , 23.0 , blockcounter:  -1 , nan\n",
      "2010-05-20 10:10:31 , 0.0 , 23.0 , blockcounter:  -1 , nan\n",
      "2010-05-20 10:20:33 , 0.0 , 22.9 , blockcounter:  -1 , nan\n",
      "2010-05-20 10:30:36 , 0.0 , 23.0 , blockcounter:  -1 , nan\n",
      "2010-05-20 10:40:39 , 0.0 , 23.0 , blockcounter:  -1 , nan\n",
      "2010-05-20 10:50:41 , 0.0 , 23.0 , blockcounter:  -1 , nan\n",
      "2010-05-20 11:00:44 , 0.0 , 23.0 , blockcounter:  -1 , nan\n",
      "2010-05-20 11:10:46 , 0.0 , 23.0 , blockcounter:  -1 , nan\n",
      "2010-05-20 11:20:49 , 0.0 , 23.0 , blockcounter:  -1 , nan\n",
      "2010-05-20 11:30:52 , 0.0 , 23.0 , blockcounter:  -1 , nan\n",
      "2010-05-20 11:40:55 , 0.0 , 23.0 , blockcounter:  -1 , nan\n",
      "2010-05-20 11:50:57 , 0.0 , 22.9 , blockcounter:  -1 , nan\n",
      "2010-05-20 12:01:00 , 0.0 , 23.0 , blockcounter:  -1 , nan\n",
      "2010-05-20 12:11:02 , 0.0 , 23.0 , blockcounter:  -1 , nan\n",
      "2010-05-20 12:21:04 , 0.0 , 23.2 , blockcounter:  -1 , nan\n",
      "2010-05-20 12:31:07 , 0.0 , 23.1 , blockcounter:  -1 , nan\n",
      "2010-05-20 12:41:09 , 0.0 , 23.2 , blockcounter:  -1 , nan\n",
      "2010-05-20 12:51:13 , 0.0 , 23.3 , blockcounter:  -1 , nan\n",
      "2010-05-20 13:01:15 , 0.0 , 23.2 , blockcounter:  -1 , nan\n",
      "2010-05-20 13:11:18 , 0.0 , 23.1 , blockcounter:  -1 , nan\n",
      "2010-05-20 13:21:20 , 0.0 , 23.2 , blockcounter:  -1 , nan\n",
      "2010-05-20 13:31:22 , 0.0 , 23.1 , blockcounter:  -1 , nan\n",
      "2010-05-20 13:41:25 , 0.0 , 23.1 , blockcounter:  -1 , nan\n",
      "2010-05-20 13:51:28 , 0.0 , 23.1 , blockcounter:  -1 , nan\n",
      "2010-05-20 14:01:31 , 0.0 , 23.1 , blockcounter:  -1 , nan\n",
      "2010-05-20 14:11:33 , 0.0 , 23.0 , blockcounter:  -1 , nan\n",
      "2010-05-20 14:21:35 , 0.0 , 23.0 , blockcounter:  -1 , nan\n",
      "2010-05-20 14:31:38 , 0.0 , 23.0 , blockcounter:  -1 , nan\n",
      "2010-05-20 14:41:40 , 0.0 , 23.0 , blockcounter:  -1 , nan\n",
      "2010-05-20 14:51:44 , 0.0 , 23.0 , blockcounter:  -1 , nan\n",
      "2010-05-20 15:01:46 , 0.0 , 23.0 , blockcounter:  -1 , nan\n",
      "2010-05-20 15:11:49 , 0.0 , 23.0 , blockcounter:  -1 , nan\n",
      "2010-05-20 15:21:51 , 0.0 , 22.9 , blockcounter:  -1 , nan\n",
      "2010-05-20 15:31:53 , 0.0 , 22.9 , blockcounter:  -1 , nan\n",
      "2010-05-20 15:41:56 , 0.0 , 22.9 , blockcounter:  -1 , nan\n",
      "2010-05-20 15:51:58 , 0.0 , 22.9 , blockcounter:  -1 , nan\n",
      "2010-05-20 16:02:02 , 0.0 , 22.9 , blockcounter:  -1 , nan\n",
      "2010-05-20 16:12:04 , 0.0 , 22.8 , blockcounter:  -1 , nan\n",
      "2010-05-20 16:22:07 , 0.0 , 22.9 , blockcounter:  -1 , nan\n",
      "2010-05-20 16:32:09 , 0.0 , 22.8 , blockcounter:  -1 , nan\n",
      "2010-05-20 16:42:12 , 0.0 , 22.8 , blockcounter:  -1 , nan\n",
      "2010-05-20 16:52:15 , 0.0 , 22.8 , blockcounter:  -1 , nan\n",
      "2010-05-20 17:02:17 , 0.0 , 22.9 , blockcounter:  -1 , nan\n",
      "2010-05-20 17:12:20 , 0.0 , 22.8 , blockcounter:  -1 , nan\n",
      "2010-05-20 17:22:22 , 0.0 , 22.8 , blockcounter:  -1 , nan\n",
      "2010-05-20 17:32:26 , 0.0 , 22.8 , blockcounter:  -1 , nan\n",
      "2010-05-20 17:42:29 , 0.0 , 22.8 , blockcounter:  -1 , nan\n",
      "2010-05-20 17:52:31 , 0.0 , 22.8 , blockcounter:  -1 , nan\n",
      "2010-05-20 18:02:35 , 0.0 , 22.8 , blockcounter:  -1 , nan\n",
      "2010-05-20 18:12:37 , 0.0 , 22.8 , blockcounter:  -1 , nan\n",
      "2010-05-20 18:22:39 , 0.0 , 22.8 , blockcounter:  -1 , nan\n",
      "2010-05-20 18:32:42 , 0.0 , 22.8 , blockcounter:  -1 , nan\n",
      "2010-05-20 18:42:44 , 0.0 , 22.7 , blockcounter:  -1 , nan\n",
      "2010-05-20 18:52:47 , 0.0 , 22.8 , blockcounter:  -1 , nan\n",
      "2010-05-20 19:02:50 , 0.0 , 22.8 , blockcounter:  -1 , nan\n",
      "2010-05-20 19:12:53 , 0.0 , 22.8 , blockcounter:  -1 , nan\n",
      "2010-05-20 19:22:55 , 0.0 , 22.8 , blockcounter:  -1 , nan\n",
      "2010-05-20 19:32:57 , 0.0 , 22.7 , blockcounter:  -1 , nan\n",
      "2010-05-20 19:43:00 , 0.0 , 22.8 , blockcounter:  -1 , nan\n",
      "2010-05-20 19:53:02 , 0.0 , 22.8 , blockcounter:  -1 , nan\n",
      "2010-05-20 20:03:06 , 0.0 , 22.8 , blockcounter:  -1 , nan\n",
      "2010-05-20 20:13:08 , 0.0 , 22.7 , blockcounter:  -1 , nan\n",
      "2010-05-20 20:23:11 , 0.0 , 22.8 , blockcounter:  -1 , nan\n",
      "2010-05-20 20:33:13 , 0.0 , 22.8 , blockcounter:  -1 , nan\n",
      "2010-05-20 20:43:15 , 0.0 , 22.8 , blockcounter:  -1 , nan\n",
      "2010-05-20 20:53:18 , 0.0 , 22.8 , blockcounter:  -1 , nan\n",
      "2010-05-20 21:03:20 , 0.0 , 22.8 , blockcounter:  -1 , nan\n",
      "2010-05-20 21:13:24 , 0.0 , 22.7 , blockcounter:  -1 , nan\n",
      "2010-05-20 21:23:26 , 0.0 , 22.8 , blockcounter:  -1 , nan\n",
      "2010-05-20 21:33:29 , 0.0 , 22.7 , blockcounter:  -1 , nan\n",
      "2010-05-20 21:43:31 , 0.0 , 22.7 , blockcounter:  -1 , nan\n",
      "2010-05-20 21:53:34 , 0.0 , 22.7 , blockcounter:  -1 , nan\n",
      "2010-05-20 22:03:37 , 0.0 , 22.7 , blockcounter:  -1 , nan\n",
      "2010-05-20 22:13:39 , 0.0 , 22.7 , blockcounter:  -1 , nan\n",
      "2010-05-20 22:23:42 , 0.0 , 22.7 , blockcounter:  -1 , nan\n",
      "2010-05-20 22:33:44 , 0.0 , 22.7 , blockcounter:  -1 , nan\n",
      "2010-05-20 22:43:47 , 0.0 , 22.7 , blockcounter:  -1 , nan\n",
      "2010-05-20 22:53:49 , 0.0 , 22.7 , blockcounter:  -1 , nan\n",
      "2010-05-20 23:03:51 , 0.0 , 22.7 , blockcounter:  -1 , nan\n",
      "2010-05-20 23:13:54 , 0.0 , 22.6 , blockcounter:  -1 , nan\n",
      "2010-05-20 23:23:57 , 0.0 , 22.7 , blockcounter:  -1 , nan\n",
      "2010-05-20 23:34:00 , 0.0 , 22.6 , blockcounter:  -1 , nan\n",
      "2010-05-20 23:44:02 , 0.0 , 22.6 , blockcounter:  -1 , nan\n",
      "2010-05-20 23:54:05 , 0.0 , 22.6 , blockcounter:  -1 , nan\n"
     ]
    }
   ],
   "source": [
    "from itertools import cycle\n",
    "li = ['A', 'B', 'C', 'D', 'E', 'F', 'G', 'H', 'I', 'J', 'K']\n",
    "running = True\n",
    "licycle = cycle(li)\n",
    "# Prime the pump\n",
    "#nextelem = licycle.next()\n",
    "prev_row = {}\n",
    "prev_row['value'] = 'null'\n",
    "prev_row['blockevent_counter'] = -1\n",
    "block = 0\n",
    "output = index\n",
    "def block_cooking(row):\n",
    "    global prev_row, block, output, nextelem\n",
    "\n",
    "    if row['blockevent_counter'] == -1:\n",
    "        nextelem = np.nan\n",
    "    elif row['blockevent_counter'] == 0  and prev_row['blockevent_counter'] == -1: \n",
    "        nextelem = licycle.next()\n",
    "        \n",
    "    print row['datetime'],',', row['valuediffauto'],',', row['value'], ', blockcounter: ', row['blockevent_counter'], ',',nextelem\n",
    "    prev_row = row\n",
    "    return nextelem\n",
    "    \n",
    "dframe2005s4['cooking_event'] = dframe2005s4.apply(lambda row: block_cooking(row), axis=1)"
   ]
  },
  {
   "cell_type": "code",
   "execution_count": 43,
   "metadata": {
    "collapsed": false
   },
   "outputs": [],
   "source": [
    "dframe2005s4['timediff'] = dframe2005s4.datetime.diff()\n",
    "dframe2005s4['msseconddeltadiff'] = dframe2005s4.msseconddelta.diff()"
   ]
  },
  {
   "cell_type": "code",
   "execution_count": 44,
   "metadata": {
    "collapsed": true
   },
   "outputs": [],
   "source": [
    "grp = dframe2005s4.groupby('cooking_event').sum()"
   ]
  },
  {
   "cell_type": "code",
   "execution_count": 45,
   "metadata": {
    "collapsed": false
   },
   "outputs": [
    {
     "name": "stdout",
     "output_type": "stream",
     "text": [
      "cooking group: A seconds: 871.216 minutes:  14.5202666667\n"
     ]
    }
   ],
   "source": [
    "for g, ce in zip(grp.index, grp.index.values):\n",
    "    print 'cooking group:', g, 'seconds:', grp['msseconddeltadiff'][ce], 'minutes: ', grp['msseconddeltadiff'][ce]/60"
   ]
  },
  {
   "cell_type": "code",
   "execution_count": 19,
   "metadata": {
    "collapsed": false
   },
   "outputs": [
    {
     "name": "stdout",
     "output_type": "stream",
     "text": [
      "['A']\n"
     ]
    }
   ],
   "source": [
    "# cooking longer than 10min (number of clusters)\n",
    "print grp[grp.msseconddeltadiff > 600].index.values"
   ]
  },
  {
   "cell_type": "code",
   "execution_count": null,
   "metadata": {
    "collapsed": true
   },
   "outputs": [],
   "source": [
    "data = CT\n",
    "# clustering\n",
    "thresh = 1000\n",
    "clusters = hcluster.fclusterdata(data, thresh, criterion=\"distance\")\n",
    "\n",
    "# plotting\n",
    "plt.scatter(*np.transpose(data), c=clusters)\n",
    "plt.axis(\"equal\")\n",
    "title = \"threshold: %f, number of clusters: %d\" % (thresh, len(set(clusters)))\n",
    "plt.title(title)\n",
    "plt.show()"
   ]
  }
 ],
 "metadata": {
  "kernelspec": {
   "display_name": "Python 2",
   "language": "python",
   "name": "python2"
  },
  "language_info": {
   "codemirror_mode": {
    "name": "ipython",
    "version": 2
   },
   "file_extension": ".py",
   "mimetype": "text/x-python",
   "name": "python",
   "nbconvert_exporter": "python",
   "pygments_lexer": "ipython2",
   "version": "2.7.10"
  }
 },
 "nbformat": 4,
 "nbformat_minor": 0
}
